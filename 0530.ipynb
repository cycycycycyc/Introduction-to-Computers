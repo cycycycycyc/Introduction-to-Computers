{
  "nbformat": 4,
  "nbformat_minor": 0,
  "metadata": {
    "colab": {
      "name": "0530.ipynb",
      "provenance": [],
      "authorship_tag": "ABX9TyMsOE/jCpjm5YiVNHbJ1U/r",
      "include_colab_link": true
    },
    "kernelspec": {
      "name": "python3",
      "display_name": "Python 3"
    },
    "language_info": {
      "name": "python"
    }
  },
  "cells": [
    {
      "cell_type": "markdown",
      "metadata": {
        "id": "view-in-github",
        "colab_type": "text"
      },
      "source": [
        "<a href=\"https://colab.research.google.com/github/cycycycycyc/Introduction-to-Computers/blob/main/0530.ipynb\" target=\"_parent\"><img src=\"https://colab.research.google.com/assets/colab-badge.svg\" alt=\"Open In Colab\"/></a>"
      ]
    },
    {
      "cell_type": "code",
      "source": [
        "for j in range(2,10):\n",
        "  for i in range(1,10):\n",
        "    k=i*j\n",
        "    print(j,'*',i,'=',k,end='\\t')\n",
        "  print()"
      ],
      "metadata": {
        "colab": {
          "base_uri": "https://localhost:8080/"
        },
        "id": "ngwQxybJG8Pf",
        "outputId": "84f3cced-a60e-4e6e-daa0-8e948260a467"
      },
      "execution_count": 7,
      "outputs": [
        {
          "output_type": "stream",
          "name": "stdout",
          "text": [
            "2 * 1 = 2\t2 * 2 = 4\t2 * 3 = 6\t2 * 4 = 8\t2 * 5 = 10\t2 * 6 = 12\t2 * 7 = 14\t2 * 8 = 16\t2 * 9 = 18\t\n",
            "3 * 1 = 3\t3 * 2 = 6\t3 * 3 = 9\t3 * 4 = 12\t3 * 5 = 15\t3 * 6 = 18\t3 * 7 = 21\t3 * 8 = 24\t3 * 9 = 27\t\n",
            "4 * 1 = 4\t4 * 2 = 8\t4 * 3 = 12\t4 * 4 = 16\t4 * 5 = 20\t4 * 6 = 24\t4 * 7 = 28\t4 * 8 = 32\t4 * 9 = 36\t\n",
            "5 * 1 = 5\t5 * 2 = 10\t5 * 3 = 15\t5 * 4 = 20\t5 * 5 = 25\t5 * 6 = 30\t5 * 7 = 35\t5 * 8 = 40\t5 * 9 = 45\t\n",
            "6 * 1 = 6\t6 * 2 = 12\t6 * 3 = 18\t6 * 4 = 24\t6 * 5 = 30\t6 * 6 = 36\t6 * 7 = 42\t6 * 8 = 48\t6 * 9 = 54\t\n",
            "7 * 1 = 7\t7 * 2 = 14\t7 * 3 = 21\t7 * 4 = 28\t7 * 5 = 35\t7 * 6 = 42\t7 * 7 = 49\t7 * 8 = 56\t7 * 9 = 63\t\n",
            "8 * 1 = 8\t8 * 2 = 16\t8 * 3 = 24\t8 * 4 = 32\t8 * 5 = 40\t8 * 6 = 48\t8 * 7 = 56\t8 * 8 = 64\t8 * 9 = 72\t\n",
            "9 * 1 = 9\t9 * 2 = 18\t9 * 3 = 27\t9 * 4 = 36\t9 * 5 = 45\t9 * 6 = 54\t9 * 7 = 63\t9 * 8 = 72\t9 * 9 = 81\t\n"
          ]
        }
      ]
    },
    {
      "cell_type": "code",
      "execution_count": 8,
      "metadata": {
        "colab": {
          "base_uri": "https://localhost:8080/"
        },
        "id": "KIvoGZrJBh3r",
        "outputId": "bf045aaa-17cd-45a0-d602-9778d98e285b"
      },
      "outputs": [
        {
          "output_type": "stream",
          "name": "stdout",
          "text": [
            "請輸a值的一個正整數:4\n",
            "請輸b值的一個正整數:6\n",
            "4 和 6 的最小公倍數= 12\n"
          ]
        }
      ],
      "source": [
        "a = int(input('請輸a值的一個正整數:'))\n",
        "b = int(input('請輸b值的一個正整數:'))\n",
        "for i in range(a,0,-1):\n",
        "  if(a%i==0 and b%i==0):\n",
        "    break\n",
        "print(a,'和',b,'的最小公倍數=',int((a/i)*(b/i)*i))"
      ]
    },
    {
      "cell_type": "code",
      "source": [
        "enter = int(input('請輸入正整數:'))\n",
        "for i in range(1,enter+1):\n",
        "  if (i%5==0):\n",
        "    continue\n",
        "  print(i,end=' ')"
      ],
      "metadata": {
        "colab": {
          "base_uri": "https://localhost:8080/"
        },
        "id": "uW3EOOL4Gnv8",
        "outputId": "5d837a9a-1a49-47e8-f34e-2f8bc8794d35"
      },
      "execution_count": 6,
      "outputs": [
        {
          "output_type": "stream",
          "name": "stdout",
          "text": [
            "請輸入正整數:21\n",
            "1 2 3 4 6 7 8 9 11 12 13 14 16 17 18 19 21 "
          ]
        }
      ]
    },
    {
      "cell_type": "code",
      "source": [
        "total = n = 0\n",
        "while(n<=10):\n",
        "  total += n\n",
        "  n += 1\n",
        "print(total)"
      ],
      "metadata": {
        "colab": {
          "base_uri": "https://localhost:8080/"
        },
        "id": "z1551JNpG_mp",
        "outputId": "7216ef1e-8ec3-4aac-94d8-20c716914420"
      },
      "execution_count": 9,
      "outputs": [
        {
          "output_type": "stream",
          "name": "stdout",
          "text": [
            "55\n"
          ]
        }
      ]
    },
    {
      "cell_type": "code",
      "source": [
        "total = n = 0\n",
        "while n<=10:\n",
        "  total += n\n",
        "  n += 1\n",
        "print(total)"
      ],
      "metadata": {
        "colab": {
          "base_uri": "https://localhost:8080/"
        },
        "id": "tPiWjgidIrLm",
        "outputId": "ce8771cd-28da-47c6-c55f-b3828fea0b15"
      },
      "execution_count": 10,
      "outputs": [
        {
          "output_type": "stream",
          "name": "stdout",
          "text": [
            "55\n"
          ]
        }
      ]
    },
    {
      "cell_type": "code",
      "source": [
        "total = n = 0\n",
        "while n<=10:\n",
        "  total += n\n",
        "  n += 1\n",
        "  \n",
        "print(total)"
      ],
      "metadata": {
        "colab": {
          "base_uri": "https://localhost:8080/"
        },
        "id": "O-2jPjj9Iu5o",
        "outputId": "8e52b345-5825-45bf-969f-fbbe8ae0c797"
      },
      "execution_count": 12,
      "outputs": [
        {
          "output_type": "stream",
          "name": "stdout",
          "text": [
            "55\n"
          ]
        }
      ]
    },
    {
      "cell_type": "code",
      "source": [
        "total = i = 1\n",
        "n = int(input('請輸入正整數n的值:'))\n",
        "while i<=n:\n",
        "  total *= i\n",
        "  i += 1\n",
        "print(\"%d!=%d\"%(n,total))"
      ],
      "metadata": {
        "colab": {
          "base_uri": "https://localhost:8080/"
        },
        "id": "HPtKeBbzLAfC",
        "outputId": "c27a47ad-0b71-415e-c148-f568a35d5d90"
      },
      "execution_count": 15,
      "outputs": [
        {
          "output_type": "stream",
          "name": "stdout",
          "text": [
            "請輸入正整數n的值:100\n",
            "100!=93326215443944152681699238856266700490715968264381621468592963895217599993229915608941463976156518286253697920827223758251185210916864000000000000000000000000\n"
          ]
        }
      ]
    },
    {
      "cell_type": "code",
      "source": [
        "total = i = 0\n",
        "while i<=50:\n",
        "  if i % 2 == 0:\n",
        "    total += i\n",
        "  i += 1\n",
        "print('0~50的偶數和的結果是',total)"
      ],
      "metadata": {
        "colab": {
          "base_uri": "https://localhost:8080/"
        },
        "id": "aX0GSsndL2pK",
        "outputId": "cb657f1b-41ac-455d-edde-897d7feffb9e"
      },
      "execution_count": 24,
      "outputs": [
        {
          "output_type": "stream",
          "name": "stdout",
          "text": [
            "0~50的偶數和的結果是 650\n"
          ]
        }
      ]
    },
    {
      "cell_type": "code",
      "source": [
        "total = i = 0\n",
        "while i<=50:\n",
        "  if i % 2 == 1:\n",
        "    total += i\n",
        "  i += 1\n",
        "print('0~50的基數和的結果是',total)"
      ],
      "metadata": {
        "colab": {
          "base_uri": "https://localhost:8080/"
        },
        "id": "0vfOmWpaN6ZY",
        "outputId": "78f9b157-c735-46fd-fe84-61607b9d598e"
      },
      "execution_count": 28,
      "outputs": [
        {
          "output_type": "stream",
          "name": "stdout",
          "text": [
            "0~50的基數和的結果是 625\n"
          ]
        }
      ]
    },
    {
      "cell_type": "code",
      "source": [
        "n = int(input('請輸入正整數:'))\n",
        "for i in range(n):\n",
        "    print((n-i)*'*')"
      ],
      "metadata": {
        "colab": {
          "base_uri": "https://localhost:8080/"
        },
        "id": "IIstpteBSXBg",
        "outputId": "0194c7fd-e265-4fde-baa8-f18cb81d11b9"
      },
      "execution_count": 26,
      "outputs": [
        {
          "output_type": "stream",
          "name": "stdout",
          "text": [
            "請輸入正整數:7\n",
            "*******\n",
            "******\n",
            "*****\n",
            "****\n",
            "***\n",
            "**\n",
            "*\n"
          ]
        }
      ]
    },
    {
      "cell_type": "code",
      "source": [
        "total = i = 0\n",
        "for i in range(1,101):\n",
        "  if i%3==0 or i%7==0:\n",
        "    total += i\n",
        "  i += 1\n",
        "print('數值1~100中，所有是3或是7倍數的數之總和是=',total)"
      ],
      "metadata": {
        "colab": {
          "base_uri": "https://localhost:8080/"
        },
        "id": "vvEEqpOPTtbV",
        "outputId": "005b8218-4521-4c1f-fae0-5272731a2b82"
      },
      "execution_count": 36,
      "outputs": [
        {
          "output_type": "stream",
          "name": "stdout",
          "text": [
            "數值1~100中，所有是3或是7倍數的數之總和是= 2208\n"
          ]
        }
      ]
    },
    {
      "cell_type": "code",
      "source": [
        "enter = int(input('請輸入正整數:'))\n",
        "for i in range(1,enter+1):\n",
        "  if(enter%i==0):\n",
        "    print(i,end=' ')\n",
        "\n",
        "c=2\n",
        "while c < enter:\n",
        "    if enter % c == 0:\n",
        "        print(enter,'不是質數')\n",
        "        break\n",
        "    c += 1\n",
        "if c == enter:\n",
        "    print(enter,'是質數')"
      ],
      "metadata": {
        "colab": {
          "base_uri": "https://localhost:8080/"
        },
        "id": "Hq_MFoxcWNt_",
        "outputId": "997f1f53-d721-4ea9-cae6-0f7a1e92f6a7"
      },
      "execution_count": 102,
      "outputs": [
        {
          "output_type": "stream",
          "name": "stdout",
          "text": [
            "請輸入正整數:12\n",
            "1 2 3 4 6 12 12 不是質數\n",
            "\n"
          ]
        }
      ]
    },
    {
      "cell_type": "code",
      "source": [
        "enter = int(input('請輸入正整數:'))\n",
        "for i in range(1,enter+1):\n",
        "  if(enter%i==0):\n",
        "    print(enter,'的因數是',i)\n",
        "\n",
        "c=2\n",
        "while c < enter:\n",
        "    if enter % c == 0:\n",
        "        print(enter,'不是質數')\n",
        "        break\n",
        "    c += 1\n",
        "if c == enter:\n",
        "    print(enter,'是質數')"
      ],
      "metadata": {
        "colab": {
          "base_uri": "https://localhost:8080/"
        },
        "id": "L7T5vgyfk0eg",
        "outputId": "e1544c9c-aaf1-48fb-dd77-66632906896b"
      },
      "execution_count": 105,
      "outputs": [
        {
          "output_type": "stream",
          "name": "stdout",
          "text": [
            "請輸入正整數:12\n",
            "12 的因數是 1\n",
            "12 的因數是 2\n",
            "12 的因數是 3\n",
            "12 的因數是 4\n",
            "12 的因數是 6\n",
            "12 的因數是 12\n",
            "12 不是質數\n"
          ]
        }
      ]
    }
  ]
}