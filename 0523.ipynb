{
  "nbformat": 4,
  "nbformat_minor": 0,
  "metadata": {
    "colab": {
      "name": "0523.ipynb",
      "provenance": [],
      "authorship_tag": "ABX9TyMIqwyp2BjtV+v03qgfd+yq",
      "include_colab_link": true
    },
    "kernelspec": {
      "name": "python3",
      "display_name": "Python 3"
    },
    "language_info": {
      "name": "python"
    }
  },
  "cells": [
    {
      "cell_type": "markdown",
      "metadata": {
        "id": "view-in-github",
        "colab_type": "text"
      },
      "source": [
        "<a href=\"https://colab.research.google.com/github/cycycycycyc/Introduction-to-Computers/blob/main/0523.ipynb\" target=\"_parent\"><img src=\"https://colab.research.google.com/assets/colab-badge.svg\" alt=\"Open In Colab\"/></a>"
      ]
    },
    {
      "cell_type": "code",
      "execution_count": 9,
      "metadata": {
        "id": "zlZ4c8aj-VIt",
        "colab": {
          "base_uri": "https://localhost:8080/"
        },
        "outputId": "0c2920ea-2886-4777-8781-bad6cad4a4ca"
      },
      "outputs": [
        {
          "output_type": "stream",
          "name": "stdout",
          "text": [
            "請輸入一個正整數:10\n",
            "1到 10 的整數和為 55\n"
          ]
        }
      ],
      "source": [
        "enter = int(input('請輸入一個正整數:'))\n",
        "sum = 0\n",
        "for n in range(enter):\n",
        "  sum = sum + n+1\n",
        "print('1到',n+1,'的整數和為',sum)"
      ]
    },
    {
      "cell_type": "code",
      "source": [
        "n = int(input('請輸入一個正整數:'))\n",
        "sum = 0\n",
        "for n in range(1,n+1):\n",
        "  sum = sum + n\n",
        "  print('1到',n,'的整數和為',sum)"
      ],
      "metadata": {
        "colab": {
          "base_uri": "https://localhost:8080/"
        },
        "id": "08Q8VYMcAzeI",
        "outputId": "19fdbd3a-42b2-450d-d720-c24c5a55f5af"
      },
      "execution_count": 10,
      "outputs": [
        {
          "output_type": "stream",
          "name": "stdout",
          "text": [
            "請輸入一個正整數:10\n",
            "1到 1 的整數和為 1\n",
            "1到 2 的整數和為 3\n",
            "1到 3 的整數和為 6\n",
            "1到 4 的整數和為 10\n",
            "1到 5 的整數和為 15\n",
            "1到 6 的整數和為 21\n",
            "1到 7 的整數和為 28\n",
            "1到 8 的整數和為 36\n",
            "1到 9 的整數和為 45\n",
            "1到 10 的整數和為 55\n"
          ]
        }
      ]
    },
    {
      "cell_type": "code",
      "source": [
        "for j in range(1,5):\n",
        "  print(j)\n",
        "  for i in range(1,3):\n",
        "    k=i*j\n",
        "    print(j,'*',i,'=',k)"
      ],
      "metadata": {
        "colab": {
          "base_uri": "https://localhost:8080/"
        },
        "id": "wLEg0CVPCKai",
        "outputId": "77bcf71c-6808-4e0f-ad71-28f35cc783b1"
      },
      "execution_count": 21,
      "outputs": [
        {
          "output_type": "stream",
          "name": "stdout",
          "text": [
            "1\n",
            "1 * 1 = 1\n",
            "1 * 2 = 2\n",
            "2\n",
            "2 * 1 = 2\n",
            "2 * 2 = 4\n",
            "3\n",
            "3 * 1 = 3\n",
            "3 * 2 = 6\n",
            "4\n",
            "4 * 1 = 4\n",
            "4 * 2 = 8\n"
          ]
        }
      ]
    },
    {
      "cell_type": "code",
      "source": [
        "for j in range(2,10):\n",
        "  for i in range(1,10):\n",
        "    k=i*j\n",
        "    print(j,'*',i,'=',k,end='\\t')\n",
        "  print()"
      ],
      "metadata": {
        "colab": {
          "base_uri": "https://localhost:8080/"
        },
        "id": "NG6sfPNnDuy6",
        "outputId": "a4c0aa98-653d-480c-ec7c-1542efecbc35"
      },
      "execution_count": 44,
      "outputs": [
        {
          "output_type": "stream",
          "name": "stdout",
          "text": [
            "2 * 1 = 2\t2 * 2 = 4\t2 * 3 = 6\t2 * 4 = 8\t2 * 5 = 10\t2 * 6 = 12\t2 * 7 = 14\t2 * 8 = 16\t2 * 9 = 18\t\n",
            "3 * 1 = 3\t3 * 2 = 6\t3 * 3 = 9\t3 * 4 = 12\t3 * 5 = 15\t3 * 6 = 18\t3 * 7 = 21\t3 * 8 = 24\t3 * 9 = 27\t\n",
            "4 * 1 = 4\t4 * 2 = 8\t4 * 3 = 12\t4 * 4 = 16\t4 * 5 = 20\t4 * 6 = 24\t4 * 7 = 28\t4 * 8 = 32\t4 * 9 = 36\t\n",
            "5 * 1 = 5\t5 * 2 = 10\t5 * 3 = 15\t5 * 4 = 20\t5 * 5 = 25\t5 * 6 = 30\t5 * 7 = 35\t5 * 8 = 40\t5 * 9 = 45\t\n",
            "6 * 1 = 6\t6 * 2 = 12\t6 * 3 = 18\t6 * 4 = 24\t6 * 5 = 30\t6 * 6 = 36\t6 * 7 = 42\t6 * 8 = 48\t6 * 9 = 54\t\n",
            "7 * 1 = 7\t7 * 2 = 14\t7 * 3 = 21\t7 * 4 = 28\t7 * 5 = 35\t7 * 6 = 42\t7 * 7 = 49\t7 * 8 = 56\t7 * 9 = 63\t\n",
            "8 * 1 = 8\t8 * 2 = 16\t8 * 3 = 24\t8 * 4 = 32\t8 * 5 = 40\t8 * 6 = 48\t8 * 7 = 56\t8 * 8 = 64\t8 * 9 = 72\t\n",
            "9 * 1 = 9\t9 * 2 = 18\t9 * 3 = 27\t9 * 4 = 36\t9 * 5 = 45\t9 * 6 = 54\t9 * 7 = 63\t9 * 8 = 72\t9 * 9 = 81\t\n"
          ]
        }
      ]
    },
    {
      "cell_type": "code",
      "source": [
        "for i in range(1,5):\n",
        "  if (i==4):\n",
        "    break\n",
        "  print(i,end=' ')"
      ],
      "metadata": {
        "colab": {
          "base_uri": "https://localhost:8080/"
        },
        "id": "lVPuZxkOE3Fu",
        "outputId": "22235284-efca-4285-c64b-deed0da3f689"
      },
      "execution_count": 31,
      "outputs": [
        {
          "output_type": "stream",
          "name": "stdout",
          "text": [
            "1 2 3 "
          ]
        }
      ]
    },
    {
      "cell_type": "code",
      "source": [
        "for i in range(1,5):\n",
        "  if (i==4):\n",
        "    continue\n",
        "  print(i,end=' ')"
      ],
      "metadata": {
        "colab": {
          "base_uri": "https://localhost:8080/"
        },
        "id": "KB_qQvRKFOCN",
        "outputId": "38098594-1fc2-4312-a7dc-c233bf417b33"
      },
      "execution_count": 32,
      "outputs": [
        {
          "output_type": "stream",
          "name": "stdout",
          "text": [
            "1 2 3 "
          ]
        }
      ]
    },
    {
      "cell_type": "code",
      "source": [
        "count = 0\n",
        "for string in '測試看看!':\n",
        "  count+=1\n",
        "  if string == '看':\n",
        "    break\n",
        "  print(string)\n",
        "\n",
        "print('迴圈結束')\n",
        "print('迴圈執行了 %d 次' %count)"
      ],
      "metadata": {
        "colab": {
          "base_uri": "https://localhost:8080/"
        },
        "id": "gaUvYyUiFzKm",
        "outputId": "eb38e98a-d963-4e16-aa43-e1a9486b0885"
      },
      "execution_count": 36,
      "outputs": [
        {
          "output_type": "stream",
          "name": "stdout",
          "text": [
            "測\n",
            "試\n",
            "迴圈結束\n",
            "迴圈執行了 3 次\n"
          ]
        }
      ]
    },
    {
      "cell_type": "code",
      "source": [
        "count = 0\n",
        "for string in 'try it!':\n",
        "  count+=1\n",
        "  if string == 'y':\n",
        "    break\n",
        "  print(string)\n",
        "\n",
        "print('迴圈結束')\n",
        "print('迴圈執行了 %d 次' %count)"
      ],
      "metadata": {
        "colab": {
          "base_uri": "https://localhost:8080/"
        },
        "id": "eltvw0AWHiFq",
        "outputId": "fb969d6e-f064-4ee7-93aa-be9a06d94f92"
      },
      "execution_count": 37,
      "outputs": [
        {
          "output_type": "stream",
          "name": "stdout",
          "text": [
            "t\n",
            "r\n",
            "迴圈結束\n",
            "迴圈執行了 3 次\n"
          ]
        }
      ]
    },
    {
      "cell_type": "code",
      "source": [
        "a = int(input('請輸a值的一個正整數:'))\n",
        "b = int(input('請輸b值的一個正整數:'))\n",
        "for i in range(a,0,-1):\n",
        "  if(a%i==0 and b%i==0):\n",
        "    break\n",
        "print(a,'和',b,'的最小公倍數=',int((a/i)*(b/i)*i))"
      ],
      "metadata": {
        "colab": {
          "base_uri": "https://localhost:8080/"
        },
        "id": "GQj0NUODJtYu",
        "outputId": "0528ae10-4b10-459e-add1-b5442eff003d"
      },
      "execution_count": 56,
      "outputs": [
        {
          "output_type": "stream",
          "name": "stdout",
          "text": [
            "請輸a值的一個正整數:4\n",
            "請輸b值的一個正整數:6\n",
            "4 和 6 的最小公倍數= 12\n"
          ]
        }
      ]
    },
    {
      "cell_type": "code",
      "source": [
        "enter = int(input('請輸入正整數:'))\n",
        "for i in range(1,enter+1):\n",
        "  if (i%5==0):\n",
        "    continue\n",
        "  print(i,end=' ')"
      ],
      "metadata": {
        "colab": {
          "base_uri": "https://localhost:8080/"
        },
        "id": "-hSRK-kZOcHv",
        "outputId": "d8cea5c1-581a-4f49-e116-bd63252ac61f"
      },
      "execution_count": 62,
      "outputs": [
        {
          "output_type": "stream",
          "name": "stdout",
          "text": [
            "請輸入正整數:12\n",
            "1 2 3 4 6 7 8 9 11 12 "
          ]
        }
      ]
    }
  ]
}