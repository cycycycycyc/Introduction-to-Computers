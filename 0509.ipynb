{
  "nbformat": 4,
  "nbformat_minor": 0,
  "metadata": {
    "colab": {
      "name": "0509.ipynb",
      "provenance": [],
      "authorship_tag": "ABX9TyPcY1SH0dNEvPewavC3Vt5J",
      "include_colab_link": true
    },
    "kernelspec": {
      "name": "python3",
      "display_name": "Python 3"
    },
    "language_info": {
      "name": "python"
    }
  },
  "cells": [
    {
      "cell_type": "markdown",
      "metadata": {
        "id": "view-in-github",
        "colab_type": "text"
      },
      "source": [
        "<a href=\"https://colab.research.google.com/github/cycycycycyc/Introduction-to-Computers/blob/main/0509.ipynb\" target=\"_parent\"><img src=\"https://colab.research.google.com/assets/colab-badge.svg\" alt=\"Open In Colab\"/></a>"
      ]
    },
    {
      "cell_type": "code",
      "execution_count": 2,
      "metadata": {
        "colab": {
          "base_uri": "https://localhost:8080/"
        },
        "id": "KjTyiA0t7nnT",
        "outputId": "68198441-5e92-44b0-aecc-32d449db9631"
      },
      "outputs": [
        {
          "output_type": "stream",
          "name": "stdout",
          "text": [
            "123\n"
          ]
        }
      ],
      "source": [
        "print('123')"
      ]
    },
    {
      "cell_type": "code",
      "source": [
        "temp= float(input('請輸入你的體溫'))\n",
        "if temp>=37.5:\n",
        "  print('體溫過高!')\n",
        "elif temp>=37 and temp<37.4:\n",
        "  print('體溫略高!')\n",
        "elif temp>=34 and temp<36.9:\n",
        "  print('體溫正常!')\n",
        "else:\n",
        "  print('體溫異常，請重新量測!')"
      ],
      "metadata": {
        "colab": {
          "base_uri": "https://localhost:8080/"
        },
        "id": "zSnufVYa_ZdP",
        "outputId": "ce5104a0-67d6-4b14-e988-32c5b71ad217"
      },
      "execution_count": 14,
      "outputs": [
        {
          "output_type": "stream",
          "name": "stdout",
          "text": [
            "請輸入你的體溫34\n",
            "體溫正常!\n"
          ]
        }
      ]
    },
    {
      "cell_type": "code",
      "source": [
        "score= float(input('請輸入你的分數'))\n",
        "if (int(score)>=90):\n",
        "  print('A')\n",
        "elif (int(score)>=80): \n",
        "  print('B')\n",
        "elif (int(score)>=70):\n",
        "  print('C')\n",
        "elif (int(score)>=60):\n",
        "  print('D')\n",
        "else:\n",
        "  print('E')"
      ],
      "metadata": {
        "colab": {
          "base_uri": "https://localhost:8080/"
        },
        "id": "LdAsR0mD_vBK",
        "outputId": "d73d9664-39ac-498b-91ce-fee01d5845ca"
      },
      "execution_count": 20,
      "outputs": [
        {
          "output_type": "stream",
          "name": "stdout",
          "text": [
            "請輸入你的分數50\n",
            "E\n"
          ]
        }
      ]
    },
    {
      "cell_type": "code",
      "source": [
        "money = int(input('請輸入購物金額:'))\n",
        "if (money >=10000):\n",
        "  if(money >=100000):\n",
        "    print(\"八折\",money*0.8,end='元\\n')\n",
        "  elif(money >=50000):\n",
        "    print('八五折',money*0.85,end='元\\n')\n",
        "  elif(money >=30000):\n",
        "    print('九五折',money*0.95,end='元\\n')\n",
        "  elif(money >=10000):\n",
        "    print('九折',money*0.9,end='元\\n')\n",
        "else:\n",
        "  print('沒打折',money,end='元\\n')\n"
      ],
      "metadata": {
        "colab": {
          "base_uri": "https://localhost:8080/"
        },
        "id": "UqpMzCbNA9zG",
        "outputId": "ce83de5f-844c-406a-bee5-8ae2c18568cb"
      },
      "execution_count": 25,
      "outputs": [
        {
          "output_type": "stream",
          "name": "stdout",
          "text": [
            "請輸入購物金額:50000\n",
            "八五折 42500.0元\n"
          ]
        }
      ]
    },
    {
      "cell_type": "code",
      "source": [
        "month=int(input('請輸入月份'))\n",
        "if (month==3):\n",
        "  print(month,'月是春天!')\n",
        "elif(month==4):\n",
        "  print(month,'月是春天!')\n",
        "elif(month==5):\n",
        "  print(month,'月是春天!')\n",
        "elif(month==6):\n",
        "  print(month,'月是夏天!')\n",
        "elif(month==7):\n",
        "  print(month,'月是夏天!')\n",
        "elif(month==8):\n",
        "  print(month,'月是夏天!')\n",
        "elif (month==9):\n",
        "  print(month,'月是秋天!')\n",
        "elif (month==10):\n",
        "  print(month,'月是秋天!')\n",
        "elif (month==11):\n",
        "  print(month,'月是秋天!')\n",
        "elif (month==12):\n",
        "  print(month,'月是冬天!')\n",
        "elif (month==1):\n",
        "  print(month,'月是冬天!')\n",
        "elif (month==2):\n",
        "  print(month,'月是冬天!')\n",
        "else:\n",
        "  print('月份不再範圍內!')"
      ],
      "metadata": {
        "colab": {
          "base_uri": "https://localhost:8080/"
        },
        "id": "CJ-8lOVOEwBL",
        "outputId": "67d1e91b-5f72-4fcf-ae43-e4090d37f345"
      },
      "execution_count": 39,
      "outputs": [
        {
          "output_type": "stream",
          "name": "stdout",
          "text": [
            "請輸入月份5\n",
            "5 月是春天!\n"
          ]
        }
      ]
    },
    {
      "cell_type": "code",
      "source": [
        "revenue=float(input('請輸入今年收入淨額'))\n",
        "if(revenue >=300000):\n",
        "  if(revenue >=2000000): \n",
        "    print(\"付稅金額:\",revenue*0.3,end='元\\n')\n",
        "  elif(revenue >=1000000):\n",
        "    print(\"付稅金額:\",revenue*0.21,end='元\\n')\n",
        "  elif(revenue >=600000):\n",
        "    print(\"付稅金額:\",revenue*0.13,end='元\\n')\n",
        "  elif(revenue >=300000):\n",
        "    print(\"付稅金額:\",revenue*0.06,end='元\\n')\n",
        "else:\n",
        "  print('付稅金額:0元')"
      ],
      "metadata": {
        "colab": {
          "base_uri": "https://localhost:8080/"
        },
        "id": "-aWYzOpfJ0xo",
        "outputId": "0099a9a1-c038-4935-a12a-b04f550f694b"
      },
      "execution_count": 33,
      "outputs": [
        {
          "output_type": "stream",
          "name": "stdout",
          "text": [
            "請輸入今年收入淨額2000000\n",
            "付稅金額: 600000.0元\n"
          ]
        }
      ]
    }
  ]
}